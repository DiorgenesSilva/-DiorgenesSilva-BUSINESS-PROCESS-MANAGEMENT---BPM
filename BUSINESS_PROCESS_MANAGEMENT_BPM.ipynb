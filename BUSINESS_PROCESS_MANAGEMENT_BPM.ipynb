{
  "nbformat": 4,
  "nbformat_minor": 0,
  "metadata": {
    "colab": {
      "provenance": [],
      "authorship_tag": "ABX9TyNysL+sCpmijGD/fOjVOLms",
      "include_colab_link": true
    },
    "kernelspec": {
      "name": "python3",
      "display_name": "Python 3"
    },
    "language_info": {
      "name": "python"
    }
  },
  "cells": [
    {
      "cell_type": "markdown",
      "metadata": {
        "id": "view-in-github",
        "colab_type": "text"
      },
      "source": [
        "<a href=\"https://colab.research.google.com/github/DiorgenesSilva/-DiorgenesSilva-BUSINESS-PROCESS-MANAGEMENT---BPM/blob/main/BUSINESS_PROCESS_MANAGEMENT_BPM.ipynb\" target=\"_parent\"><img src=\"https://colab.research.google.com/assets/colab-badge.svg\" alt=\"Open In Colab\"/></a>"
      ]
    },
    {
      "cell_type": "markdown",
      "source": [
        "# BUSINESS PROCESS MANAGEMENT - BPM\n",
        "\n",
        "*texto em itálico*"
      ],
      "metadata": {
        "id": "XP8qR8wJCmiV"
      }
    },
    {
      "cell_type": "markdown",
      "source": [
        "## BUSINESS PROCESS MANAGEMENT - BPM\n",
        "\n",
        "## Modelos de Estruturas Organizacionais\n",
        "\n",
        "## Abordagem Funcional x Abordagem por Processos\n",
        "\n",
        "## Workflow\n",
        "\n",
        "## Classificação dos Processos de Negócios e Business Process Management (BPM)\n",
        "\n",
        "## Conceitos relacionados ao BPM\n",
        "\n",
        "##Ciclo de Vida do BPM\n",
        "\n",
        "## Notação de Modelagem de Processos com Fluxogramas, IDEF e UML\n",
        "\n",
        "## Business Process Model and Notation - BPMN\n",
        "\n",
        "## Análise de Processos\n",
        "\n",
        "## Desenho de Processos (AS-IS)\n",
        "\n",
        "## Redesenho de Processos (TO-BE)\n",
        "\n",
        "## Simulação de Processos\n",
        "\n",
        "## Automação de Processos\n",
        "\n",
        "## Gerenciamento de Desempenho de Processos\n",
        "\n",
        "## Gerenciamento de Mudança\n",
        "\n",
        "## Tecnologias de BPM"
      ],
      "metadata": {
        "id": "gfxGqKgXDC1K"
      }
    },
    {
      "cell_type": "markdown",
      "source": [],
      "metadata": {
        "id": "cChY7BS7DX5s"
      }
    }
  ]
}